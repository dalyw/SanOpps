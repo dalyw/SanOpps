{
 "cells": [
  {
   "cell_type": "code",
   "execution_count": 2,
   "metadata": {},
   "outputs": [],
   "source": [
    "import pandas as pd\n",
    "\n",
    "\n",
    "# Create a DataFrame with the necessary parameters\n",
    "params = pd.DataFrame({\n",
    "    'label': [\n",
    "        \"Current Total Households\", \"Projected Total Households\",\n",
    "        \"Current Fraction Households with Toilet Access\", \"Projected Fraction Households with Toilet Access\",\n",
    "        \"Current Population\", \"Projected Population\",\n",
    "        \"STP Count\", \"STP Capacity (mld)\",\n",
    "        \"Solid Waste per Person per Day (tpd)\",\n",
    "        \"Current Total Number of Public Toilets\", \"Current Total Number of Community Toilets\",\n",
    "        \"Current Percent of Sewerage Connections\"\n",
    "    ],\n",
    "    'start': [\n",
    "        1, 1,\n",
    "        0.0, 0.0,\n",
    "        1, 1,\n",
    "        1, 1,\n",
    "        0.0,\n",
    "        1, 1,\n",
    "        0.0\n",
    "    ],\n",
    "    'stop': [\n",
    "        1000000, 1000000,\n",
    "        1.0, 1.0,\n",
    "        10000000, 10000000,\n",
    "        100, 1000,\n",
    "        1.0,\n",
    "        1000, 1000,\n",
    "        1.0\n",
    "    ],\n",
    "    'step': [\n",
    "        1, 1,\n",
    "        0.01, 0.01,\n",
    "        1, 1,\n",
    "        1, 1,\n",
    "        0.0001,\n",
    "        1, 1,\n",
    "        0.01\n",
    "    ],\n",
    "    'value': [\n",
    "        506353, 848750,\n",
    "        1.0, 1.0,\n",
    "        2405665, 4074000,\n",
    "        4, 340,\n",
    "        0.0005,\n",
    "        88, 60,\n",
    "        0.15\n",
    "    ]\n",
    "})\n",
    "\n",
    "# save params to csv\n",
    "params.to_csv('params.csv', index=False)\n"
   ]
  },
  {
   "cell_type": "code",
   "execution_count": null,
   "metadata": {},
   "outputs": [],
   "source": []
  }
 ],
 "metadata": {
  "kernelspec": {
   "display_name": "sanopps",
   "language": "python",
   "name": "python3"
  },
  "language_info": {
   "codemirror_mode": {
    "name": "ipython",
    "version": 3
   },
   "file_extension": ".py",
   "mimetype": "text/x-python",
   "name": "python",
   "nbconvert_exporter": "python",
   "pygments_lexer": "ipython3",
   "version": "3.12.5"
  }
 },
 "nbformat": 4,
 "nbformat_minor": 2
}
